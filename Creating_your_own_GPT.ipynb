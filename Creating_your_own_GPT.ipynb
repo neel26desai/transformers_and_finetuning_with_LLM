{
  "nbformat": 4,
  "nbformat_minor": 0,
  "metadata": {
    "colab": {
      "provenance": [],
      "toc_visible": true,
      "gpuType": "T4",
      "authorship_tag": "ABX9TyNh7Q0fwfpkgRJFzx4ehBZg",
      "include_colab_link": true
    },
    "kernelspec": {
      "name": "python3",
      "display_name": "Python 3"
    },
    "language_info": {
      "name": "python"
    },
    "accelerator": "GPU"
  },
  "cells": [
    {
      "cell_type": "markdown",
      "metadata": {
        "id": "view-in-github",
        "colab_type": "text"
      },
      "source": [
        "<a href=\"https://colab.research.google.com/github/neel26desai/transformers_and_finetuning_with_LLM/blob/main/Creating_your_own_GPT.ipynb\" target=\"_parent\"><img src=\"https://colab.research.google.com/assets/colab-badge.svg\" alt=\"Open In Colab\"/></a>"
      ]
    },
    {
      "cell_type": "markdown",
      "source": [
        "# Overview\n",
        "\n",
        "I this colab we will be creating out own GPT, using a latge corpus of data. We will be using \"As you Like It\" play written by William Shakespears, as our main corpuse, this will result in our transformer, generating text as if it werin the play it self.\n",
        "\n",
        "We will be following https://www.youtube.com/watch?v=kCc8FmEb1nY&t=18s, as our guide on how to train out model.\n",
        "\n",
        "\n",
        "The data which we are using can be found on https://shakespeare.mit.edu/asyoulikeit/full.html, the entire play is there just copy it and paste it in a txt file\n",
        "\n",
        "\n",
        "Instead of predicting the next word in the sequence, we will make the problem easier, for scrath implementation, my making the problem focus on predicting the next character of the sequence"
      ],
      "metadata": {
        "id": "GjqvXWMPu4jP"
      }
    },
    {
      "cell_type": "code",
      "source": [
        "import torch\n",
        "import torch.nn as nn\n",
        "from torch.nn import functional as F"
      ],
      "metadata": {
        "id": "T5X6fBhH577O"
      },
      "execution_count": 1,
      "outputs": []
    },
    {
      "cell_type": "code",
      "source": [
        "# hyperparameters, Defines various hyperparameters, such as batch size, block size, number of iterations, learning rate, etc., to control model training behavior.\n",
        "batch_size = 16 # how many independent sequences will we process in parallel?\n",
        "block_size = 32 # what is the maximum context length for predictions?\n",
        "max_iters = 5000\n",
        "eval_interval = 100\n",
        "learning_rate = 1e-3\n",
        "device = 'cuda' if torch.cuda.is_available() else 'cpu'\n",
        "eval_iters = 200\n",
        "n_embd = 64\n",
        "n_head = 4\n",
        "n_layer = 4\n",
        "dropout = 0.0"
      ],
      "metadata": {
        "id": "vMLECN1l53C7"
      },
      "execution_count": 15,
      "outputs": []
    },
    {
      "cell_type": "markdown",
      "source": [
        "# Data Loading and Encoding/Decoding\n",
        "\n",
        "\n",
        "Sets up character-level encoding and decoding:\n",
        "stoi: Converts characters to integers.\n",
        "itos: Converts integers back to characters.\n",
        "encode/decode are lambda functions for encoding and decoding strings.\n",
        "\n",
        "1.   Loads text data from input.txt.\n",
        "2.   Sets up character-level encoding and decoding:\n",
        "      1. stoi: Converts characters to integers.\n",
        "      2. itos: Converts integers back to characters.\n",
        "      3. encode/decode are lambda functions for encoding and decoding strings\n",
        "\n"
      ],
      "metadata": {
        "id": "vnpfRZUz6AY_"
      }
    },
    {
      "cell_type": "code",
      "execution_count": 3,
      "metadata": {
        "id": "uOnk-Oc_anum"
      },
      "outputs": [],
      "source": [
        "# read it in to inspect it\n",
        "with open('as_you_like_it.txt', 'r', encoding='utf-8') as f:\n",
        "    text = f.read()"
      ]
    },
    {
      "cell_type": "code",
      "source": [
        "print(\"length of dataset in characters: \", len(text))"
      ],
      "metadata": {
        "colab": {
          "base_uri": "https://localhost:8080/"
        },
        "id": "Fh9mIjCXwXFT",
        "outputId": "9e6ba95e-4328-4302-cfc8-5783631f4cd1"
      },
      "execution_count": 4,
      "outputs": [
        {
          "output_type": "stream",
          "name": "stdout",
          "text": [
            "length of dataset in characters:  120352\n"
          ]
        }
      ]
    },
    {
      "cell_type": "code",
      "source": [
        "# here are all the unique characters that occur in this text\n",
        "chars = sorted(list(set(text)))\n",
        "vocab_size = len(chars)\n",
        "# create a mapping from characters to integers\n",
        "stoi = { ch:i for i,ch in enumerate(chars) }\n",
        "itos = { i:ch for i,ch in enumerate(chars) }\n",
        "encode = lambda s: [stoi[c] for c in s] # encoder: take a string, output a list of integers\n",
        "decode = lambda l: ''.join([itos[i] for i in l]) # decoder: take a list of integers, output a string\n"
      ],
      "metadata": {
        "id": "wH4UwYp36B5I"
      },
      "execution_count": 5,
      "outputs": []
    },
    {
      "cell_type": "markdown",
      "source": [
        "# Train Test Split\n",
        "\n",
        "Converts the loaded text data into a tensor, then splits it into training (90%) and validation (10%) datasets."
      ],
      "metadata": {
        "id": "vRmN9rv06H3n"
      }
    },
    {
      "cell_type": "code",
      "source": [
        "# Train and test splits\n",
        "data = torch.tensor(encode(text), dtype=torch.long)\n",
        "n = int(0.9*len(data)) # first 90% will be train, rest val\n",
        "train_data = data[:n]\n",
        "val_data = data[n:]"
      ],
      "metadata": {
        "id": "isPq1iFP6Gng"
      },
      "execution_count": 13,
      "outputs": []
    },
    {
      "cell_type": "markdown",
      "source": [
        "# Batch Data Loader\n",
        "Generates batches of data for training and validation by sampling random indices."
      ],
      "metadata": {
        "id": "qTNa2Zhs9OcN"
      }
    },
    {
      "cell_type": "code",
      "source": [
        "# data loading\n",
        "def get_batch(split):\n",
        "    # generate a small batch of data of inputs x and targets y\n",
        "    data = train_data if split == 'train' else val_data\n",
        "    ix = torch.randint(len(data) - block_size, (batch_size,))\n",
        "    x = torch.stack([data[i:i+block_size] for i in ix])\n",
        "    y = torch.stack([data[i+1:i+block_size+1] for i in ix])\n",
        "    x, y = x.to(device), y.to(device)\n",
        "    return x, y\n"
      ],
      "metadata": {
        "id": "EEVE21t49Qy6"
      },
      "execution_count": null,
      "outputs": []
    },
    {
      "cell_type": "markdown",
      "source": [
        "#  Loss Estimation for Evaluation\n",
        "\n",
        "Evaluates the training and validation loss without calculating gradients, allowing the model to be evaluated periodically."
      ],
      "metadata": {
        "id": "qR_678-k9WtB"
      }
    },
    {
      "cell_type": "code",
      "source": [
        "#function will be used for calculating loss\n",
        "@torch.no_grad()\n",
        "def estimate_loss():\n",
        "    out = {}\n",
        "    model.eval()\n",
        "    for split in ['train', 'val']:\n",
        "        losses = torch.zeros(eval_iters)\n",
        "        for k in range(eval_iters):\n",
        "            X, Y = get_batch(split)\n",
        "            logits, loss = model(X, Y)\n",
        "            losses[k] = loss.item()\n",
        "        out[split] = losses.mean()\n",
        "    model.train()\n",
        "    return out\n"
      ],
      "metadata": {
        "id": "Xq4IcPuE61Hf"
      },
      "execution_count": 6,
      "outputs": []
    },
    {
      "cell_type": "markdown",
      "source": [
        "# Self-Attention Mechanism"
      ],
      "metadata": {
        "id": "wsXYwj7d9drE"
      }
    },
    {
      "cell_type": "markdown",
      "source": [
        "## Head Class\n",
        "\n",
        "\n",
        "**Self-Attention Basics**\n",
        "\n",
        "The `Head` class implements a single attention head to focus on different parts of the input sequence.\n",
        "\n",
        "**Key Concepts:**\n",
        "\n",
        "* **Key (k):** A transformation to derive the \"importance\" of tokens.\n",
        "* **Query (q):** A transformation to determine which tokens are relevant to each other.\n",
        "* **Value (v):** A transformation of the input to create a representation for each token.\n",
        "\n",
        "**Masking:**\n",
        "\n",
        "A triangular mask (tril) ensures that the model does not attend to future tokens, preserving causality.\n",
        "\n",
        "**Output:**\n",
        "\n",
        "The weighted attention scores (wei) are combined with values (v) to aggregate information from the input sequence."
      ],
      "metadata": {
        "id": "zXn58-8_9nrz"
      }
    },
    {
      "cell_type": "code",
      "source": [
        "class Head(nn.Module):\n",
        "    \"\"\" one head of self-attention \"\"\"\n",
        "\n",
        "    def __init__(self, head_size):\n",
        "        super().__init__()\n",
        "        self.key = nn.Linear(n_embd, head_size, bias=False)\n",
        "        self.query = nn.Linear(n_embd, head_size, bias=False)\n",
        "        self.value = nn.Linear(n_embd, head_size, bias=False)\n",
        "        self.register_buffer('tril', torch.tril(torch.ones(block_size, block_size)))\n",
        "\n",
        "        self.dropout = nn.Dropout(dropout)\n",
        "\n",
        "    def forward(self, x):\n",
        "        B,T,C = x.shape\n",
        "        k = self.key(x)   # (B,T,C)\n",
        "        q = self.query(x) # (B,T,C)\n",
        "        # compute attention scores (\"affinities\")\n",
        "        wei = q @ k.transpose(-2,-1) * C**-0.5 # (B, T, C) @ (B, C, T) -> (B, T, T)\n",
        "        wei = wei.masked_fill(self.tril[:T, :T] == 0, float('-inf')) # (B, T, T)\n",
        "        wei = F.softmax(wei, dim=-1) # (B, T, T)\n",
        "        wei = self.dropout(wei)\n",
        "        # perform the weighted aggregation of the values\n",
        "        v = self.value(x) # (B,T,C)\n",
        "        out = wei @ v # (B, T, T) @ (B, T, C) -> (B, T, C)\n",
        "        return out"
      ],
      "metadata": {
        "id": "BgtE8VjP65q8"
      },
      "execution_count": 7,
      "outputs": []
    },
    {
      "cell_type": "markdown",
      "source": [
        "## Multi-Head Attention\n",
        "\n",
        "Instead of a single attention head, multi-head attention utilizes several heads operating in parallel. This empowers the model to capture diverse relationships between tokens. Each head can focus on distinct aspects of the input, resulting in a richer understanding.\n",
        "\n",
        "**Initialization:**\n",
        "\n",
        "The class creates a list of attention heads. Each head independently computes its own set of query, key, and value transformations.\n",
        "\n",
        "**Forward Pass:**\n",
        "\n",
        "The outputs from each head are concatenated along the last dimension using `torch.cat`.\n",
        "\n",
        "These concatenated outputs are then fed through a final linear projection (`proj`) followed by a dropout layer."
      ],
      "metadata": {
        "id": "KPeW_B-5_TYq"
      }
    },
    {
      "cell_type": "code",
      "source": [
        "class MultiHeadAttention(nn.Module):\n",
        "    \"\"\" multiple heads of self-attention in parallel \"\"\"\n",
        "\n",
        "    def __init__(self, num_heads, head_size):\n",
        "        super().__init__()\n",
        "        self.heads = nn.ModuleList([Head(head_size) for _ in range(num_heads)])\n",
        "        self.proj = nn.Linear(n_embd, n_embd)\n",
        "        self.dropout = nn.Dropout(dropout)\n",
        "\n",
        "    def forward(self, x):\n",
        "        out = torch.cat([h(x) for h in self.heads], dim=-1)\n",
        "        out = self.dropout(self.proj(out))\n",
        "        return out\n"
      ],
      "metadata": {
        "id": "SB3DvoK-68q_"
      },
      "execution_count": 8,
      "outputs": []
    },
    {
      "cell_type": "markdown",
      "source": [
        "## Feedforward Network\n",
        "\n",
        "The feedforward network is a straightforward yet potent mechanism that augments the model's capability.\n",
        "\n",
        "It comprises:\n",
        "\n",
        "* **Linear Layer:** Expands the input dimension (`n_embd`) to four times its size (`4 * n_embd`).\n",
        "* **ReLU Activation:** Introduces non-linearity.\n",
        "* **Linear Layer:** Reduces the dimension back to the original size (`n_embd`).\n",
        "* **Dropout Layer:** Prevents overfitting.\n",
        "\n",
        "This component aids the model in learning intricate data transformations post the application of the attention mechanism."
      ],
      "metadata": {
        "id": "veHDauTg_WbS"
      }
    },
    {
      "cell_type": "code",
      "source": [
        "class FeedFoward(nn.Module):\n",
        "    \"\"\" a simple linear layer followed by a non-linearity \"\"\"\n",
        "\n",
        "    def __init__(self, n_embd):\n",
        "        super().__init__()\n",
        "        self.net = nn.Sequential(\n",
        "            nn.Linear(n_embd, 4 * n_embd),\n",
        "            nn.ReLU(),\n",
        "            nn.Linear(4 * n_embd, n_embd),\n",
        "            nn.Dropout(dropout),\n",
        "        )\n",
        "\n",
        "    def forward(self, x):\n",
        "        return self.net(x)\n"
      ],
      "metadata": {
        "id": "Ur69kn5N7RDH"
      },
      "execution_count": 9,
      "outputs": []
    },
    {
      "cell_type": "markdown",
      "source": [
        "## Transformer Block\n",
        "\n",
        "The Transformer block is the fundamental building block of Transformer-based architectures. It alternates between:\n",
        "\n",
        "1. **Multi-Head Self-Attention (sa):** Followed by Layer Normalization (ln1).\n",
        "2. **Feed Forward Network (ffwd):** Followed by another Layer Normalization (ln2).\n",
        "\n",
        "**Residual Connections (x +):**\n",
        "\n",
        "These connections are pivotal for ensuring effective gradient flow during backpropagation. They expedite learning and enhance convergence during training."
      ],
      "metadata": {
        "id": "kBerpnW1_oXP"
      }
    },
    {
      "cell_type": "code",
      "source": [
        "class Block(nn.Module):\n",
        "    \"\"\" Transformer block: communication followed by computation \"\"\"\n",
        "\n",
        "    def __init__(self, n_embd, n_head):\n",
        "        # n_embd: embedding dimension, n_head: the number of heads we'd like\n",
        "        super().__init__()\n",
        "        head_size = n_embd // n_head\n",
        "        self.sa = MultiHeadAttention(n_head, head_size)\n",
        "        self.ffwd = FeedFoward(n_embd)\n",
        "        self.ln1 = nn.LayerNorm(n_embd)\n",
        "        self.ln2 = nn.LayerNorm(n_embd)\n",
        "\n",
        "    def forward(self, x):\n",
        "        x = x + self.sa(self.ln1(x))\n",
        "        x = x + self.ffwd(self.ln2(x))\n",
        "        return x\n"
      ],
      "metadata": {
        "id": "KOhSpv1A7UOx"
      },
      "execution_count": 10,
      "outputs": []
    },
    {
      "cell_type": "markdown",
      "source": [
        "## BigramLanguageModel\n",
        "\n",
        "**Embedding Layers**\n",
        "\n",
        "* **Token Embedding (token_embedding_table):** Converts token indices into vector representations.\n",
        "* **Positional Embedding (position_embedding_table):** Learns a representation for each position in the sequence, enabling the model to comprehend the order of tokens.\n",
        "\n",
        "**Blocks**\n",
        "\n",
        "The model is constructed by stacking multiple Transformer blocks (`blocks`), each comprising self-attention and feedforward layers.\n",
        "\n",
        "**Layer Normalization and Linear Projection**\n",
        "\n",
        "Following all Transformer blocks, the model applies Layer Normalization (`ln_f`) and a final linear projection (`lm_head`) to generate logits for each token in the vocabulary.\n",
        "\n",
        "**Loss Calculation**\n",
        "\n",
        "If targets are provided, the model computes the cross-entropy loss between the logits and targets.\n",
        "\n",
        "**Text Generation (generate)**\n",
        "\n",
        "Generates new text iteratively by predicting the next token and appending it to the sequence. The multinomial sampling strategy is employed to generate tokens from the distribution."
      ],
      "metadata": {
        "id": "j8CEPHA4_taZ"
      }
    },
    {
      "cell_type": "code",
      "source": [
        "# super simple bigram model\n",
        "class BigramLanguageModel(nn.Module):\n",
        "\n",
        "    def __init__(self):\n",
        "        super().__init__()\n",
        "        # each token directly reads off the logits for the next token from a lookup table\n",
        "        self.token_embedding_table = nn.Embedding(vocab_size, n_embd)\n",
        "        self.position_embedding_table = nn.Embedding(block_size, n_embd)\n",
        "        self.blocks = nn.Sequential(*[Block(n_embd, n_head=n_head) for _ in range(n_layer)])\n",
        "        self.ln_f = nn.LayerNorm(n_embd) # final layer norm\n",
        "        self.lm_head = nn.Linear(n_embd, vocab_size)\n",
        "\n",
        "    def forward(self, idx, targets=None):\n",
        "        B, T = idx.shape\n",
        "\n",
        "        # idx and targets are both (B,T) tensor of integers\n",
        "        tok_emb = self.token_embedding_table(idx) # (B,T,C)\n",
        "        pos_emb = self.position_embedding_table(torch.arange(T, device=device)) # (T,C)\n",
        "        x = tok_emb + pos_emb # (B,T,C)\n",
        "        x = self.blocks(x) # (B,T,C)\n",
        "        x = self.ln_f(x) # (B,T,C)\n",
        "        logits = self.lm_head(x) # (B,T,vocab_size)\n",
        "\n",
        "        if targets is None:\n",
        "            loss = None\n",
        "        else:\n",
        "            B, T, C = logits.shape\n",
        "            logits = logits.view(B*T, C)\n",
        "            targets = targets.view(B*T)\n",
        "            loss = F.cross_entropy(logits, targets)\n",
        "\n",
        "        return logits, loss\n",
        "\n",
        "    def generate(self, idx, max_new_tokens):\n",
        "        # idx is (B, T) array of indices in the current context\n",
        "        for _ in range(max_new_tokens):\n",
        "            # crop idx to the last block_size tokens\n",
        "            idx_cond = idx[:, -block_size:]\n",
        "            # get the predictions\n",
        "            logits, loss = self(idx_cond)\n",
        "            # focus only on the last time step\n",
        "            logits = logits[:, -1, :] # becomes (B, C)\n",
        "            # apply softmax to get probabilities\n",
        "            probs = F.softmax(logits, dim=-1) # (B, C)\n",
        "            # sample from the distribution\n",
        "            idx_next = torch.multinomial(probs, num_samples=1) # (B, 1)\n",
        "            # append sampled index to the running sequence\n",
        "            idx = torch.cat((idx, idx_next), dim=1) # (B, T+1)\n",
        "        return idx\n"
      ],
      "metadata": {
        "id": "R0O3X1h_7XSN"
      },
      "execution_count": 11,
      "outputs": []
    },
    {
      "cell_type": "markdown",
      "source": [
        "# Training\n",
        "\n",
        "*Model Instantiation and Device Placement**\n",
        "\n",
        "The model is instantiated and transferred to the appropriate device (CPU or GPU).\n",
        "\n",
        "**Optimizer**\n",
        "\n",
        "AdamW is employed for optimization, combining adaptive gradient methods with weight decay to enhance training.\n",
        "\n",
        "**Training Loop**\n",
        "\n",
        "The model is trained for `max_iters` iterations.\n",
        "\n",
        "Every `eval_interval` steps, the model's training and validation loss is printed to monitor training progress.\n",
        "\n",
        "A batch is sampled using `get_batch`, and the model calculates the loss.\n",
        "\n",
        "Backpropagation (`loss.backward()`) and an optimizer step are used to update model weights."
      ],
      "metadata": {
        "id": "OufW-ELdBTsq"
      }
    },
    {
      "cell_type": "code",
      "source": [
        "model = BigramLanguageModel()\n",
        "m = model.to(device)\n",
        "# print the number of parameters in the model\n",
        "print(sum(p.numel() for p in m.parameters())/1e6, 'M parameters')\n",
        "\n",
        "# create a PyTorch optimizer\n",
        "optimizer = torch.optim.AdamW(model.parameters(), lr=learning_rate)\n",
        "\n",
        "for iter in range(max_iters):\n",
        "\n",
        "    # every once in a while evaluate the loss on train and val sets\n",
        "    if iter % eval_interval == 0 or iter == max_iters - 1:\n",
        "        losses = estimate_loss()\n",
        "        print(f\"step {iter}: train loss {losses['train']:.4f}, val loss {losses['val']:.4f}\")\n",
        "\n",
        "    # sample a batch of data\n",
        "    xb, yb = get_batch('train')\n",
        "\n",
        "    # evaluate the loss\n",
        "    logits, loss = model(xb, yb)\n",
        "    optimizer.zero_grad(set_to_none=True)\n",
        "    loss.backward()\n",
        "    optimizer.step()\n"
      ],
      "metadata": {
        "colab": {
          "base_uri": "https://localhost:8080/"
        },
        "id": "wICvsbqg7a5p",
        "outputId": "faf6471b-4f14-4806-ea2b-6a923034d8b6"
      },
      "execution_count": 16,
      "outputs": [
        {
          "output_type": "stream",
          "name": "stdout",
          "text": [
            "0.2096 M parameters\n",
            "step 0: train loss 4.3407, val loss 4.3299\n",
            "step 100: train loss 2.6129, val loss 2.6656\n",
            "step 200: train loss 2.4445, val loss 2.4997\n",
            "step 300: train loss 2.3624, val loss 2.4274\n",
            "step 400: train loss 2.2596, val loss 2.3299\n",
            "step 500: train loss 2.1844, val loss 2.2557\n",
            "step 600: train loss 2.1278, val loss 2.2025\n",
            "step 700: train loss 2.0697, val loss 2.1367\n",
            "step 800: train loss 2.0155, val loss 2.0997\n",
            "step 900: train loss 1.9880, val loss 2.0648\n",
            "step 1000: train loss 1.9429, val loss 2.0381\n",
            "step 1100: train loss 1.9172, val loss 1.9998\n",
            "step 1200: train loss 1.8804, val loss 1.9787\n",
            "step 1300: train loss 1.8564, val loss 1.9493\n",
            "step 1400: train loss 1.8392, val loss 1.9496\n",
            "step 1500: train loss 1.8125, val loss 1.9240\n",
            "step 1600: train loss 1.7844, val loss 1.9244\n",
            "step 1700: train loss 1.7637, val loss 1.9024\n",
            "step 1800: train loss 1.7542, val loss 1.8913\n",
            "step 1900: train loss 1.7418, val loss 1.8726\n",
            "step 2000: train loss 1.7344, val loss 1.8747\n",
            "step 2100: train loss 1.7154, val loss 1.8512\n",
            "step 2200: train loss 1.6963, val loss 1.8398\n",
            "step 2300: train loss 1.6832, val loss 1.8304\n",
            "step 2400: train loss 1.6758, val loss 1.8353\n",
            "step 2500: train loss 1.6552, val loss 1.8458\n",
            "step 2600: train loss 1.6558, val loss 1.8312\n",
            "step 2700: train loss 1.6429, val loss 1.8150\n",
            "step 2800: train loss 1.6360, val loss 1.7979\n",
            "step 2900: train loss 1.6246, val loss 1.8245\n",
            "step 3000: train loss 1.6068, val loss 1.7885\n",
            "step 3100: train loss 1.5975, val loss 1.7833\n",
            "step 3200: train loss 1.5902, val loss 1.7974\n",
            "step 3300: train loss 1.5868, val loss 1.7892\n",
            "step 3400: train loss 1.5758, val loss 1.7970\n",
            "step 3500: train loss 1.5725, val loss 1.7898\n",
            "step 3600: train loss 1.5593, val loss 1.7816\n",
            "step 3700: train loss 1.5490, val loss 1.7963\n",
            "step 3800: train loss 1.5424, val loss 1.7789\n",
            "step 3900: train loss 1.5416, val loss 1.7859\n",
            "step 4000: train loss 1.5329, val loss 1.7760\n",
            "step 4100: train loss 1.5238, val loss 1.7662\n",
            "step 4200: train loss 1.5213, val loss 1.7693\n",
            "step 4300: train loss 1.5163, val loss 1.7751\n",
            "step 4400: train loss 1.5085, val loss 1.7791\n",
            "step 4500: train loss 1.5024, val loss 1.7583\n",
            "step 4600: train loss 1.5029, val loss 1.7672\n",
            "step 4700: train loss 1.4878, val loss 1.7647\n",
            "step 4800: train loss 1.4877, val loss 1.7654\n",
            "step 4900: train loss 1.4862, val loss 1.7787\n",
            "step 4999: train loss 1.4675, val loss 1.7645\n"
          ]
        }
      ]
    },
    {
      "cell_type": "markdown",
      "source": [
        "# Inference\n",
        "**Context Initialization**\n",
        "\n",
        "Initiates with a tensor of zeros, symbolizing the beginning of text generation.\n",
        "\n",
        "**Text Generation**\n",
        "\n",
        "The model generates new tokens for `max_new_tokens` steps using the `generate` function.\n",
        "\n",
        "Finally, the generated indices are converted back to text using `decode` and printed.\n"
      ],
      "metadata": {
        "id": "nUaN6DZlBi-S"
      }
    },
    {
      "cell_type": "code",
      "source": [
        "# generate from the model\n",
        "context = torch.zeros((1, 1), dtype=torch.long, device=device)\n",
        "print(decode(m.generate(context, max_new_tokens=2000)[0].tolist()))\n"
      ],
      "metadata": {
        "colab": {
          "base_uri": "https://localhost:8080/"
        },
        "id": "JeDWzT5O7dXw",
        "outputId": "d1f6fb19-c003-4ec1-c44b-52177fc59c44"
      },
      "execution_count": 17,
      "outputs": [
        {
          "output_type": "stream",
          "name": "stdout",
          "text": [
            "\n",
            "Alcan thee, now be to change ward that sin,\n",
            "I thrugh all take from span than this this honestreatisual.\n",
            "ORLLANDO\n",
            "O, all\n",
            "And as his all enemortand many, sir: I fir should deast two be at man haved you.\n",
            "ROSALIND\n",
            "Alas I had did not brafess thou ctand:\n",
            "If as she mursure and under, he word place.\n",
            "JAQUES\n",
            "Thus we know. He, wise\n",
            "Come, that sbetted en my for fair?\n",
            "ORLANDO\n",
            "I tell be no muzk canst: If you as take thoubbere.\n",
            "LE BesieuK\n",
            "ORLAND, CERICK\n",
            "ORLANDO\n",
            "Why, you clean to this rewifiture as I much her than swo\n",
            "as bask dead kind his but of blapench?\n",
            "ORLANDO\n",
            "Gone west throufarn good blat gives?\n",
            "ORLANDO\n",
            "Callin you do alt you.\n",
            "ORLANDO\n",
            "Whow I will go yout pisted, as a burt, To-morrow;\n",
            "And, thou will you have me, been chime man hath\n",
            "her liescansword; why sick upon sportd? O, who counster the duke it this\n",
            "whenly lifestard mays: cond, poor of forth now,\n",
            "A Hock What was give Oliver, bein shid, with his heart\n",
            "\n",
            "he forest a reshed black this stai.\n",
            "Then a haave not stan?\n",
            "CORIN\n",
            "Is did will in aymile, it had not be begot\n",
            "\n",
            "All. Gid not have Jak becons, Arrings do graw therefest and\n",
            "all upon sure, sir\n",
            "That you gallinest\n",
            "and sischide\n",
            "'Tis than a bogion like me, with very uncle too seck\n",
            "ROSALIND\n",
            "By you seek behou someit\n",
            "rind, placede through\n",
            "The days and prure is in here inlaments answeat!\n",
            "CELIA\n",
            "No it with that it is like boutding, for thou, with though have entley\n",
            "his disch hid suckect you, whenpear.\n",
            "Wilt thou dindey and take for the fanks of.\n",
            "ROSALIND\n",
            "Mrow how throws\n",
            "dingta'er so alt waste, are shall was\n",
            "laugh my be sso no wood thy old:\n",
            "Get awill shall I what ticks brook upon than my sold.\n",
            "JAQUES\n",
            "ROSALIND\n",
            "Giving is you says\n",
            "ears of honess ORLANDO and CORIN\n",
            "His ard, I am priestly.\n",
            "he sing, that own; thy is asked thou Rosalind, thou have upon\n",
            "I will find not in it many in it; I as then they in my bid if all\n",
            "belangs to know grants;\n",
            "Or wheren bysew Thy actimen, foot but knyy fast so sister,\n",
            "I cannot oathrid.\n",
            "ORLANDO\n",
            "Or that you, a rank the inks that us a milight aways,\n",
            "Affarer's as ig sobs that\n"
          ]
        }
      ]
    }
  ]
}